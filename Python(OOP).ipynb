{
 "cells": [
  {
   "cell_type": "code",
   "execution_count": 1,
   "metadata": {},
   "outputs": [],
   "source": [
    "## OOP - is using programming to mimic real world objects by assigning a combination of:\n",
    "\n",
    "\n",
    "# 1- Attributes: \"Things\" in the object (is/has) - Ex: Names, Age, Hight, etc.. \n",
    "\n",
    "# 2- Methods: The things that the Objects can do - Ex: Eat, Sleep, Driving, etc..\n",
    "\n"
   ]
  },
  {
   "cell_type": "code",
   "execution_count": 5,
   "metadata": {},
   "outputs": [],
   "source": [
    "# We can create an object, we need to create a (Class).\n",
    "\n",
    "# Class can function as a blueprint that will discribe what attributes and methods that our distict object will have \n",
    "# \n",
    "#  Steps: \n",
    "#\n",
    "#       1- Add the attributes\n",
    "#       2- Add the methods (def)\n",
    "#       3- Add the init method that will construct the Object\n",
    "\n",
    "# References: \n",
    "# (https://www.youtube.com/watch?v=q2SGW2VgwAM)\n",
    "# (https://www.youtube.com/watch?v=JeznW_7DlB0)\n",
    "# (https://www.youtube.com/watch?v=Ej_02ICOIgs)\n",
    "# (https://www.w3schools.com/python/python_classes.asp)\n"
   ]
  },
  {
   "cell_type": "code",
   "execution_count": 3,
   "metadata": {},
   "outputs": [],
   "source": [
    "## Now this is an example of mimicing a real world object (a car)"
   ]
  },
  {
   "cell_type": "code",
   "execution_count": 24,
   "metadata": {},
   "outputs": [
    {
     "name": "stdout",
     "output_type": "stream",
     "text": [
      "The Car Manufacturer: (Accord) - The Production Year: (2022)\n",
      "The Car Manufacturer: (Camrey) - The Production Year: (2019)\n",
      "The Car Manufacturer: (F20) - The Production Year: (2024)\n",
      "The Car Manufacturer: (Mazda6) - The Production Year: (2013)\n",
      "This Accord is driving\n",
      "This Camrey is driving\n",
      "This F20 is driving\n",
      "This Mazda6 is driving\n",
      "This car is stopped\n",
      "<class 'type'>\n"
     ]
    }
   ],
   "source": [
    "class Car:\n",
    "\n",
    "    ##We will start w/ the Constructor \n",
    "\n",
    "    def __init__(self,producer,model,color,year): #To create the object (We need to add (self) to refer to the object)\n",
    "\n",
    "    #Then we add the attributes \n",
    "\n",
    "        self.producer = producer # We change (None) to the arrgument that we are going to receive\n",
    "                                # None #We need to add (self) in the attributes to assign them to the object\n",
    "        self.model = model\n",
    "        self.year = year\n",
    "        self.color = color\n",
    "\n",
    "    ##I will add (Methods - Action) that car can do - and it starts as a [def]\n",
    "\n",
    "    def drive(self): #Self refers to the Object that can do the method (Action)\n",
    "        print(f\"This {self.model} is driving\") # we can add the object inside the acion - by adding (self.arrgument), where self is the object's features\n",
    "    \n",
    "    def stop(self):\n",
    "        print(\"This car is stopped\")\n",
    "\n",
    "#By this I assigend attributes to the class (Object - Car)\n",
    "\n",
    "car1=Car(\"Honda\",\"Accord\",\"White\",2022) \n",
    "car2=Car(\"Toyota\",\"Camrey\",\"Black\",2019)\n",
    "car3=Car(\"Ford\",\"F20\",\"Selver\",2024)\n",
    "car4=Car(\"Mazda\",\"Mazda6\",\"Yellow\",2013)\n",
    "\n",
    "# To acess the object attributes:\n",
    "\n",
    "print(f\"The Car Manufacturer: ({car1.model}) - The Production Year: ({car1.year})\") \n",
    "print(f\"The Car Manufacturer: ({car2.model}) - The Production Year: ({car2.year})\") \n",
    "print(f\"The Car Manufacturer: ({car3.model}) - The Production Year: ({car3.year})\") \n",
    "print(f\"The Car Manufacturer: ({car4.model}) - The Production Year: ({car4.year})\") \n",
    "\n",
    "#To call the methods (Actions)\n",
    "\n",
    "car1.drive()\n",
    "car1.stop\n",
    "\n",
    "car2.drive()\n",
    "car2.stop\n",
    "\n",
    "car3.drive()\n",
    "car3.stop\n",
    "\n",
    "car4.drive()\n",
    "car4.stop()\n",
    "\n",
    "print(type(Car))\n",
    "\n"
   ]
  },
  {
   "cell_type": "code",
   "execution_count": 33,
   "metadata": {},
   "outputs": [
    {
     "name": "stdout",
     "output_type": "stream",
     "text": [
      "<class 'str'>\n",
      "HELLO\n"
     ]
    }
   ],
   "source": [
    "#To call a method \n",
    "\n",
    "string=\"hello\" #This is a class called (String)\n",
    "print(type(string))\n",
    "\n",
    "#To call the method (Action), we can use (Dot) after the object then call the method and its end w/ parentheses \n",
    "b=string.upper()\n",
    "print(b)"
   ]
  },
  {
   "cell_type": "code",
   "execution_count": 63,
   "metadata": {},
   "outputs": [
    {
     "name": "stdout",
     "output_type": "stream",
     "text": [
      "<class '__main__.Object'>\n",
      "Name: TAZ - Color: Blue - Size: Big\n",
      "4\n",
      "TAZ is Moving\n",
      "TAZ\n",
      "Blue\n",
      "Red\n"
     ]
    }
   ],
   "source": [
    "class Object:\n",
    "\n",
    "    def __init__(self,name,color,size):\n",
    "\n",
    "        self.name=name\n",
    "        self.color=color\n",
    "        self.size=size\n",
    "\n",
    "    def stop(self, x):\n",
    "        a=x+1\n",
    "        print(a)\n",
    "\n",
    "    def moving(self):\n",
    "        print(f\"{self.name} is Moving\")\n",
    "    \n",
    "    def get_name(self):\n",
    "        return self.name\n",
    "    \n",
    "    def get_color(self): \n",
    "        return self.color #Self - to assing athe object \n",
    "    \n",
    "    def set_color(self,color):\n",
    "        self.color=color\n",
    "\n",
    "#objects=Object()\n",
    "\n",
    "object1=Object(\"TAZ\",\"Blue\",\"Big\")\n",
    "\n",
    "print(type(object1))\n",
    "\n",
    "#To Call The Object's Attributes - Object.Arrgument - no (Parentheses)\n",
    "print(f\"Name: {object1.name} - Color: {object1.color} - Size: {object1.size}\")\n",
    "\n",
    "#To call Object's Methods - Object.Method() - with (Parentheses)\n",
    "\n",
    "object1.stop(3)\n",
    "object1.moving()\n",
    "\n",
    "print(object1.get_name())\n",
    "\n",
    "print(object1.get_color())\n",
    "\n",
    "object1.set_color(\"Red\")\n",
    "\n",
    "print(object1.color)\n",
    "\n",
    "\n"
   ]
  },
  {
   "cell_type": "code",
   "execution_count": null,
   "metadata": {},
   "outputs": [],
   "source": []
  },
  {
   "cell_type": "code",
   "execution_count": 86,
   "metadata": {},
   "outputs": [
    {
     "name": "stdout",
     "output_type": "stream",
     "text": [
      "I am Jim, and my age is 12 years.\n",
      "I am Jone, and my age is 2 years.\n",
      "Hello there, this is Jim\n",
      "Hello there, this is Jone\n",
      "I am a cat, my name is Sally, and I say Mew. My color is Purple\n",
      "I am a dog, my name is Zag, and I say WOF\n",
      "Hello there, this is TAZ\n"
     ]
    }
   ],
   "source": [
    "class Pet:\n",
    "\n",
    "    def __init__(self, name, age):\n",
    "        self.name=name\n",
    "        self.age=age\n",
    "\n",
    "    def show(self):\n",
    "        print(f\"I am {self.name}, and my age is {self.age} years.\")\n",
    "    \n",
    "    def action(self):\n",
    "        print(f\"Hello there, this is {self.name}\")\n",
    "\n",
    "class Cat(Pet):\n",
    "\n",
    "    #The inheritant - Now I am going to get the objects, but I want to add one more (Attribute) to this class\n",
    "    # We need to iniate the class\n",
    "\n",
    "    def __init__(self, name, age, color): #In this, we added extra attribute (Color)\n",
    "        super().__init__(name, age) #it's going to pass the name and age from the top class \n",
    "        #(super is the class that we have inherited from which is (__init__))\n",
    "        self.color=color\n",
    "\n",
    "\n",
    "    def action(self):\n",
    "        print(f\"I am a cat, my name is {self.name}, and I say Mew. My color is {self.color}\")\n",
    "\n",
    "class Dog(Pet):\n",
    "\n",
    "    def action(self):\n",
    "        print(f\"I am a dog, my name is {self.name}, and I say WOF\")\n",
    "\n",
    "class Fish(Pet):\n",
    "    pass\n",
    "\n",
    "#Now these methods can call only on Things class where the arrgument are saved in\n",
    "\n",
    "p1=Pet(\"Jim\",12)\n",
    "p2=Pet(\"Jone\", 2) \n",
    "\n",
    "p1.show()\n",
    "p2.show()\n",
    "\n",
    "p1.action()\n",
    "p2.action()\n",
    "\n",
    "# Now to use the methodes in other classess, we need to save the arrgument in the other classes\n",
    "\n",
    "c=Cat(\"Sally\",4,\"Purple\") ## Here we added the color in the arrgument \n",
    "d=Dog(\"Zag\", 7) \n",
    "\n",
    "c.action()\n",
    "d.action()\n",
    "\n",
    "#Now I am going to Save the pet in (fish) class, but it's going to do (Pet) class (method), because fish has pass\n",
    "\n",
    "f=Fish(\"TAZ\", 122)\n",
    "f.action()\n",
    "\n",
    "    \n",
    "\n"
   ]
  },
  {
   "cell_type": "code",
   "execution_count": 101,
   "metadata": {},
   "outputs": [
    {
     "name": "stdout",
     "output_type": "stream",
     "text": [
      "0\n",
      "1\n",
      "2\n",
      "3\n"
     ]
    }
   ],
   "source": [
    "class Person():\n",
    "    number_of_people=0 #I add number_of_people inside the class, so it's assosiated to the class and I can call it as attribute\n",
    "\n",
    "    def __init__(self,name):\n",
    "        self.name=name\n",
    "        Person.number_of_people=Person.number_of_people+1 # this is called the attribute \n",
    "\n",
    "print(Person.number_of_people) # this called number of people (0) = the first constant (0)\n",
    "\n",
    "p1=Person(\"A\")\n",
    "print(Person.number_of_people) # this called number of people (1)\n",
    "p2=Person(\"B\")\n",
    "print(Person.number_of_people) # this called number of people (2)\n",
    "p3=Person(\"C\")\n",
    "print(Person.number_of_people) # this called number of people (3)"
   ]
  },
  {
   "cell_type": "code",
   "execution_count": null,
   "metadata": {},
   "outputs": [],
   "source": []
  }
 ],
 "metadata": {
  "kernelspec": {
   "display_name": "Python 3",
   "language": "python",
   "name": "python3"
  },
  "language_info": {
   "codemirror_mode": {
    "name": "ipython",
    "version": 3
   },
   "file_extension": ".py",
   "mimetype": "text/x-python",
   "name": "python",
   "nbconvert_exporter": "python",
   "pygments_lexer": "ipython3",
   "version": "3.9.7"
  }
 },
 "nbformat": 4,
 "nbformat_minor": 2
}
