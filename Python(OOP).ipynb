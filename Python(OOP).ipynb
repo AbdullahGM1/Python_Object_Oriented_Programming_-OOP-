{
 "cells": [
  {
   "cell_type": "code",
   "execution_count": 1,
   "metadata": {},
   "outputs": [],
   "source": [
    "## OOP - is using programming to mimic real world objects by assigning a combination of:\n",
    "\n",
    "\n",
    "# 1- Attributes: \"Things\" in the object (is/has) - Ex: Names, Age, Hight, etc.. \n",
    "\n",
    "# 2- Methods: The things that the Objects can do - Ex: Eat, Sleep, Driving, etc..\n",
    "\n"
   ]
  },
  {
   "cell_type": "code",
   "execution_count": 5,
   "metadata": {},
   "outputs": [],
   "source": [
    "# We can create an object, we need to create a (Class).\n",
    "\n",
    "# Class can function as a blueprint that will discribe what attributes and methods that our distict object will have \n",
    "# \n",
    "#  Steps: \n",
    "#\n",
    "#       1- Add the attributes\n",
    "#       2- Add the methods (def)\n",
    "#       3- Add the init method that will construct the Object\n",
    "\n",
    "# References: \n",
    "# (https://www.youtube.com/watch?v=q2SGW2VgwAM)\n",
    "# (https://www.youtube.com/watch?v=JeznW_7DlB0)\n",
    "# ()\n",
    "# \n"
   ]
  },
  {
   "cell_type": "code",
   "execution_count": 3,
   "metadata": {},
   "outputs": [],
   "source": [
    "## Now this is an example of mimicing a real world object (a car)"
   ]
  },
  {
   "cell_type": "code",
   "execution_count": 21,
   "metadata": {},
   "outputs": [
    {
     "name": "stdout",
     "output_type": "stream",
     "text": [
      "The Car Manufacturer: (Accord) - The Production Year: (2022)\n",
      "The Car Manufacturer: (Camrey) - The Production Year: (2019)\n",
      "The Car Manufacturer: (F20) - The Production Year: (2024)\n",
      "The Car Manufacturer: (Mazda6) - The Production Year: (2013)\n",
      "This Accord is driving\n",
      "This Camrey is driving\n",
      "This F20 is driving\n",
      "This Mazda6 is driving\n"
     ]
    },
    {
     "data": {
      "text/plain": [
       "<bound method Car.stop of <__main__.Car object at 0x7f84d0a2a310>>"
      ]
     },
     "execution_count": 21,
     "metadata": {},
     "output_type": "execute_result"
    }
   ],
   "source": [
    "class Car:\n",
    "\n",
    "    ##We will start w/ the Constructor \n",
    "\n",
    "    def __init__(self,producer,model,color,year): #To create the object (We need to add (self) to refer to the object)\n",
    "\n",
    "    #Then we add the attributes \n",
    "\n",
    "        self.producer = producer # We change (None) to the arrgument that we are going to receive\n",
    "                                # None #We need to add (self) in the attributes to assign them to the object\n",
    "        self.model = model\n",
    "        self.year = year\n",
    "        self.color = color\n",
    "\n",
    "    ##I will add (Methods - Action) that car can do - and it starts as a [def]\n",
    "\n",
    "    def drive(self): #Self refers to the Object that can do the method (Action)\n",
    "        print(f\"This {self.model} is driving\") # we can add the object inside the acion - by adding (self.arrgument), where self is the object's features\n",
    "    \n",
    "    def stop(self):\n",
    "        print(\"This car is stopped\")\n",
    "\n",
    "#By this I assigend attributes to the class (Object - Car)\n",
    "\n",
    "car1=Car(\"Honda\",\"Accord\",\"White\",2022) \n",
    "car2=Car(\"Toyota\",\"Camrey\",\"Black\",2019)\n",
    "car3=Car(\"Ford\",\"F20\",\"Selver\",2024)\n",
    "car4=Car(\"Mazda\",\"Mazda6\",\"Yellow\",2013)\n",
    "\n",
    "# To acess the object attributes:\n",
    "Car\n",
    "\n",
    "print(f\"The Car Manufacturer: ({car1.model}) - The Production Year: ({car1.year})\") \n",
    "print(f\"The Car Manufacturer: ({car2.model}) - The Production Year: ({car2.year})\") \n",
    "print(f\"The Car Manufacturer: ({car3.model}) - The Production Year: ({car3.year})\") \n",
    "print(f\"The Car Manufacturer: ({car4.model}) - The Production Year: ({car4.year})\") \n",
    "\n",
    "#To call the methods (Actions)\n",
    "\n",
    "car1.drive()\n",
    "car1.stop\n",
    "\n",
    "car2.drive()\n",
    "car2.stop\n",
    "\n",
    "car3.drive()\n",
    "car3.stop\n",
    "\n",
    "car4.drive()\n",
    "car4.stop\n",
    "\n"
   ]
  },
  {
   "cell_type": "code",
   "execution_count": 19,
   "metadata": {},
   "outputs": [
    {
     "name": "stdout",
     "output_type": "stream",
     "text": [
      "circle\n"
     ]
    }
   ],
   "source": [
    "\n",
    "\n",
    "class Cup:\n",
    "\n",
    "    def __init__(self,size,shape):\n",
    "\n",
    "        self.size=size\n",
    "        self.shape=shape\n",
    "\n",
    "    def full(self):\n",
    "\n",
    "        print(\"The Cup is Full\")\n",
    "\n",
    "    def empity(self):\n",
    "\n",
    "        print(\"The Cup is Empity\")\n",
    "\n",
    "cup1=Cup(\"Large\",\"circle\")\n",
    "\n",
    "print(cup1.shape)\n",
    "\n"
   ]
  },
  {
   "cell_type": "code",
   "execution_count": null,
   "metadata": {},
   "outputs": [],
   "source": []
  }
 ],
 "metadata": {
  "kernelspec": {
   "display_name": "Python 3",
   "language": "python",
   "name": "python3"
  },
  "language_info": {
   "codemirror_mode": {
    "name": "ipython",
    "version": 3
   },
   "file_extension": ".py",
   "mimetype": "text/x-python",
   "name": "python",
   "nbconvert_exporter": "python",
   "pygments_lexer": "ipython3",
   "version": "3.9.7"
  }
 },
 "nbformat": 4,
 "nbformat_minor": 2
}
