{
 "cells": [
  {
   "cell_type": "code",
   "execution_count": 1,
   "metadata": {},
   "outputs": [],
   "source": [
    "## OOP - is using programming to mimic real world objects by assigning a combination of:\n",
    "\n",
    "\n",
    "# 1- Attributes: \"Things\" in the object (is/has) - Ex: Names, Age, Hight, etc.. \n",
    "\n",
    "# 2- Methods: The things that the Objects can do - Ex: Eat, Sleep, Driving, etc..\n",
    "\n"
   ]
  },
  {
   "cell_type": "code",
   "execution_count": 5,
   "metadata": {},
   "outputs": [],
   "source": [
    "# We can create an object, we need to create a (Class).\n",
    "\n",
    "# Class can function as a blueprint that will discribe what attributes and methods that our distict object will have \n",
    "# \n",
    "#  Steps: \n",
    "#\n",
    "#       1- Add the attributes\n",
    "#       2- Add the methods (def)\n",
    "#       3- Add the init method that will construct the Object"
   ]
  },
  {
   "cell_type": "code",
   "execution_count": 3,
   "metadata": {},
   "outputs": [],
   "source": [
    "## Now this is an example of mimicing a real world object (a car)"
   ]
  },
  {
   "cell_type": "code",
   "execution_count": 6,
   "metadata": {},
   "outputs": [
    {
     "ename": "IndentationError",
     "evalue": "expected an indented block (200694264.py, line 7)",
     "output_type": "error",
     "traceback": [
      "\u001b[0;36m  Cell \u001b[0;32mIn[6], line 7\u001b[0;36m\u001b[0m\n\u001b[0;31m    producer = None\u001b[0m\n\u001b[0m    ^\u001b[0m\n\u001b[0;31mIndentationError\u001b[0m\u001b[0;31m:\u001b[0m expected an indented block\n"
     ]
    }
   ],
   "source": [
    "class Car:\n",
    "\n",
    "    ##I will start w/ the attributes\n",
    "\n",
    "    def __init__(self,producer,model,year,color): #To create the object \n",
    "\n",
    "        self.producer = None #We need to add (self) in the attributes to assign them to the object\n",
    "        self.model = None\n",
    "        self.year = None\n",
    "        self.color = None\n",
    "\n",
    "    ##I will add (Methods - Action) that car can do - and it starts as a [def]\n",
    "\n",
    "    def drive(self): #Self refers to the Object that can do the method (Action)\n",
    "        print(\"This car is driving\")\n",
    "    \n",
    "    def stop(self):\n",
    "        print(\"This car is stopped\")\n",
    "\n",
    "\n",
    "\n",
    "\n",
    "\n",
    "\n",
    "\n"
   ]
  },
  {
   "cell_type": "code",
   "execution_count": null,
   "metadata": {},
   "outputs": [],
   "source": [
    "class Mug:\n",
    "\n",
    "\n",
    "\n",
    "    def __init__(self):\n",
    "        \n",
    "        drink=None\n",
    "        color=None\n",
    "        size=None\n",
    "        brand=None\n",
    "    \n",
    "\n",
    "    def epmity(self):\n",
    "        print(\"The Mug needs to be refilled\")\n",
    "\n",
    "    def full(self):\n",
    "        print(\"Stop pouring, the Mug is full\")\n",
    "\n",
    "\n",
    "\n",
    "\n"
   ]
  }
 ],
 "metadata": {
  "kernelspec": {
   "display_name": "Python 3",
   "language": "python",
   "name": "python3"
  },
  "language_info": {
   "codemirror_mode": {
    "name": "ipython",
    "version": 3
   },
   "file_extension": ".py",
   "mimetype": "text/x-python",
   "name": "python",
   "nbconvert_exporter": "python",
   "pygments_lexer": "ipython3",
   "version": "3.9.7"
  }
 },
 "nbformat": 4,
 "nbformat_minor": 2
}
